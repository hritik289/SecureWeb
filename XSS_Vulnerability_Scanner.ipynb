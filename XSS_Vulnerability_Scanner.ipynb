{
  "nbformat": 4,
  "nbformat_minor": 0,
  "metadata": {
    "colab": {
      "name": "XSS_Vulnerability_Scanner.ipynb",
      "provenance": []
    },
    "kernelspec": {
      "name": "python3",
      "display_name": "Python 3"
    },
    "language_info": {
      "name": "python"
    }
  },
  "cells": [
    {
      "cell_type": "code",
      "metadata": {
        "id": "_M0Ue2tPfhtA"
      },
      "source": [
        "import requests\n",
        "from pprint import pprint\n",
        "from bs4 import BeautifulSoup as bs\n",
        "from urllib.parse import urljoin"
      ],
      "execution_count": null,
      "outputs": []
    },
    {
      "cell_type": "code",
      "metadata": {
        "id": "PXIjX6dgfnJV"
      },
      "source": [
        "def get_all_forms(url):\n",
        "    soup = bs(requests.get(url).content, \"html.parser\")\n",
        "    return soup.find_all(\"form\")"
      ],
      "execution_count": null,
      "outputs": []
    },
    {
      "cell_type": "code",
      "metadata": {
        "id": "j5wCL56pfysa"
      },
      "source": [
        "def get_form_details(form):\n",
        "    details = {}\n",
        "    action = form.attrs.get(\"action\").lower()\n",
        "    method = form.attrs.get(\"method\", \"get\").lower()\n",
        "    inputs = []\n",
        "    for input_tag in form.find_all(\"input\"):\n",
        "        input_type = input_tag.attrs.get(\"type\", \"text\")\n",
        "        input_name = input_tag.attrs.get(\"name\")\n",
        "        inputs.append({\"type\": input_type, \"name\": input_name})\n",
        "    details[\"action\"] = action\n",
        "    details[\"method\"] = method\n",
        "    details[\"inputs\"] = inputs\n",
        "    return details"
      ],
      "execution_count": null,
      "outputs": []
    },
    {
      "cell_type": "code",
      "metadata": {
        "id": "zOAjmdADf16Z"
      },
      "source": [
        "def submit_form(form_details, url, value):\n",
        "    target_url = urljoin(url, form_details[\"action\"])\n",
        "    inputs = form_details[\"inputs\"]\n",
        "    data = {}\n",
        "    for input in inputs:\n",
        "        if input[\"type\"] == \"text\" or input[\"type\"] == \"search\":\n",
        "            input[\"value\"] = value\n",
        "        input_name = input.get(\"name\")\n",
        "        input_value = input.get(\"value\")\n",
        "        if input_name and input_value:\n",
        "            data[input_name] = input_value\n",
        "    if form_details[\"method\"] == \"post\":\n",
        "        return requests.post(target_url, data=data)\n",
        "    else:\n",
        "        return requests.get(target_url, params=data)\n"
      ],
      "execution_count": null,
      "outputs": []
    },
    {
      "cell_type": "code",
      "metadata": {
        "id": "pxnFourxf5am"
      },
      "source": [
        "def scan_xss(url):\n",
        "    forms = get_all_forms(url)\n",
        "    print(f\"[+] Detected {len(forms)} forms on {url}.\")\n",
        "    js_script = \"<script>alert('hi')</script>\"\n",
        "    is_vulnerable = False\n",
        "    for form in forms:\n",
        "        form_details = get_form_details(form)\n",
        "        content = submit_form(form_details, url, js_script).content.decode()\n",
        "        if js_script in content:\n",
        "            print(f\"[+] XSS Detected on {url}\")\n",
        "            print(f\"[*] Form details:\")\n",
        "            pprint(form_details)\n",
        "            is_vulnerable = True\n",
        "    return is_vulnerable\n"
      ],
      "execution_count": null,
      "outputs": []
    },
    {
      "cell_type": "code",
      "metadata": {
        "id": "f7johnMxgBe7",
        "colab": {
          "base_uri": "https://localhost:8080/"
        },
        "outputId": "1c0a4b62-2e4f-412a-b5c4-19714fb4ae02"
      },
      "source": [
        "if __name__ == \"__main__\":\n",
        "    url = \"https://xss-game.appspot.com/level1/frame\"\n",
        "    print(scan_xss(url))"
      ],
      "execution_count": null,
      "outputs": [
        {
          "output_type": "stream",
          "name": "stdout",
          "text": [
            "[+] Detected 1 forms on https://xss-game.appspot.com/level1/frame.\n",
            "[+] XSS Detected on https://xss-game.appspot.com/level1/frame\n",
            "[*] Form details:\n",
            "{'action': '',\n",
            " 'inputs': [{'name': 'query',\n",
            "             'type': 'text',\n",
            "             'value': \"<script>alert('hi')</script>\"},\n",
            "            {'name': None, 'type': 'submit'}],\n",
            " 'method': 'get'}\n",
            "True\n"
          ]
        }
      ]
    }
  ]
}